{
 "cells": [
  {
   "cell_type": "code",
   "execution_count": 8,
   "metadata": {},
   "outputs": [],
   "source": [
    "# set wd\n",
    "import os\n",
    "os.chdir('C:/Users/User/Desktop/SCUOLA/UNI/2.Magistrale/TESI/Causal_Inference_for_Multivariate_Time_Series/Code/Python code/real world data/Hybrid file')"
   ]
  },
  {
   "cell_type": "code",
   "execution_count": 9,
   "metadata": {},
   "outputs": [],
   "source": [
    "# put Butter, Cheese and Milk datasets' Values column together in a dataframe with the date column\n",
    "import pandas as pd\n",
    "import numpy as np\n",
    "import matplotlib\n",
    "\n",
    "# load the datasets\n",
    "Butter = pd.read_csv('data/dairy_markets/Butter.csv')\n",
    "Cheese = pd.read_csv('data/dairy_markets/Cheese.csv')\n",
    "Milk = pd.read_csv('data/dairy_markets/Milk.csv')\n",
    "\n",
    "# put the values column together\n",
    "data = pd.DataFrame({'Date': Butter['Date'], 'Butter': Butter['Values'], 'Cheese': Cheese['Values'], 'Milk': Milk['Values']})\n",
    "\n",
    "# save the data\n",
    "data.to_csv('dairy_markets_merged.csv', index = False)\n"
   ]
  },
  {
   "cell_type": "code",
   "execution_count": 22,
   "metadata": {},
   "outputs": [
    {
     "name": "stdout",
     "output_type": "stream",
     "text": [
      "Datasets loaded into the dictionary:\n",
      "dairy_markets_merged\n",
      "Data cleaned.\n",
      "Data saved to dairy_dataframes.pkl.\n"
     ]
    }
   ],
   "source": [
    "# Load, clean & save\n",
    "from Custom_dataset_loader_2 import dataframe_storer\n",
    "\n",
    "processor = dataframe_storer('data/dairy_markets/dairy_markets_merged.csv', 'dairy_dataframes.pkl', folder=False)\n",
    "dfs = processor.load_data()\n",
    "processor.clean_data(column_to_remove=0, column_name=None)\n",
    "processor.save_data()"
   ]
  },
  {
   "cell_type": "code",
   "execution_count": 23,
   "metadata": {},
   "outputs": [
    {
     "name": "stdout",
     "output_type": "stream",
     "text": [
      "Analyzing dataset: dairy_markets_merged\n",
      "DataFrame head:\n",
      "     Butter    Cheese      Milk\n",
      "0  1.470000  1.767500  1.153611\n",
      "1  1.429166  1.820250  1.165000\n",
      "2  1.311250  1.862763  1.165625\n",
      "3  1.231250  1.896973  1.161250\n",
      "4  1.015000  1.505833  1.070000\n"
     ]
    }
   ],
   "source": [
    "# Analyse\n",
    "processor.analyze_dataset('dairy_markets_merged')"
   ]
  },
  {
   "cell_type": "code",
   "execution_count": 24,
   "metadata": {},
   "outputs": [
    {
     "name": "stdout",
     "output_type": "stream",
     "text": [
      "A: Butter\n",
      "B: Cheese\n",
      "C: Milk\n",
      "Output saved to nodes_dairy.txt\n"
     ]
    }
   ],
   "source": [
    "# Make nodes\n",
    "from Custom_dataset_loader_2 import NodesNAmeMaker\n",
    "\n",
    "column_mapper = NodesNAmeMaker(dfs)\n",
    "\n",
    "# preprocessed_1\n",
    "output_text = column_mapper.map_columns('dairy_markets_merged')\n",
    "if output_text:\n",
    "    print(output_text)\n",
    "    # Save the output to a text file\n",
    "    column_mapper.save_output(output_text, 'nodes_dairy.txt')"
   ]
  },
  {
   "cell_type": "code",
   "execution_count": 25,
   "metadata": {},
   "outputs": [
    {
     "name": "stdout",
     "output_type": "stream",
     "text": [
      "Nodes: ['A', 'C', 'B']\n",
      "Adjacency Matrix:\n",
      " [[0 0 0]\n",
      " [0 0 0]\n",
      " [1 1 0]]\n"
     ]
    },
    {
     "data": {
      "image/png": "[encoded data removed]",
      "text/plain": [
       "<Figure size 800x600 with 1 Axes>"
      ]
     },
     "metadata": {},
     "output_type": "display_data"
    }
   ],
   "source": [
    "# Make DAG\n",
    "from Custom_dataset_loader_2 import DAG_maker\n",
    "\n",
    "processor = DAG_maker()\n",
    "\n",
    "'''\n",
    "Cheese -> Butter\n",
    "Cheese -> Milk\n",
    "\n",
    "A: Butter\n",
    "B: Cheese\n",
    "C: Milk\n",
    "'''\n",
    "\n",
    "# preprocessed_1\n",
    "nodes, adj_matrix = processor.dag_to_adj_matrix('B->A, B->C')\n",
    "print(\"Nodes:\", nodes)\n",
    "print(\"Adjacency Matrix:\\n\", adj_matrix)\n",
    "processor.adj_matrix_to_graph(nodes, adj_matrix)\n",
    "processor.plot_graph()"
   ]
  }
 ],
 "metadata": {
  "kernelspec": {
   "display_name": "Python 3",
   "language": "python",
   "name": "python3"
  },
  "language_info": {
   "codemirror_mode": {
    "name": "ipython",
    "version": 3
   },
   "file_extension": ".py",
   "mimetype": "text/x-python",
   "name": "python",
   "nbconvert_exporter": "python",
   "pygments_lexer": "ipython3",
   "version": "3.12.2"
  }
 },
 "nbformat": 4,
 "nbformat_minor": 2
}
